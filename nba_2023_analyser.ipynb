{
 "cells": [
  {
   "cell_type": "markdown",
   "id": "bb25ecac",
   "metadata": {},
   "source": [
    "<h1 style=\"font-size:3rem;color:blue;\">Analisando Jogos NBA 2023</h1>"
   ]
  },
  {
   "cell_type": "markdown",
   "id": "c45513a9",
   "metadata": {},
   "source": [
    "Coletando dados do banco de dados."
   ]
  },
  {
   "cell_type": "code",
   "execution_count": null,
   "id": "67bd5682",
   "metadata": {},
   "outputs": [],
   "source": [
    "import mysql.connector as connection\n",
    "import pandas as pd\n",
    "import math\n",
    "\n",
    "try:\n",
    "    mydb = connection.connect(host=\"localhost\", database = 'nbaonnumbers',user=\"sa\", passwd=\"RomuloJalim70\",use_pure=True)\n",
    "    query = \"select id_game as 'id', date, visitor.full_name as 'visitor', home.full_name as 'home', visit_score, home_score, visitor.division as 'visitor_division', home.division as 'home_division', visitor.conference as 'visitor_conference', home.conference as 'home_conference' from game inner join team visitor on visitor.id_team = game.id_visit_team inner join team home on home.id_team = game.id_home_team where game.league = 'NBA';\"\n",
    "    result_dataFrame = pd.read_sql(query, mydb)\n",
    "    mydb.close()\n",
    "except Exception as e:\n",
    "    mydb.close()\n",
    "    print(str(e))"
   ]
  },
  {
   "cell_type": "markdown",
   "id": "b3f54b63",
   "metadata": {},
   "source": [
    "Revendo dados de uma linha da tabela"
   ]
  },
  {
   "cell_type": "code",
   "execution_count": null,
   "id": "4133c4df",
   "metadata": {},
   "outputs": [],
   "source": [
    "print(result_dataFrame.iloc[0])"
   ]
  },
  {
   "cell_type": "markdown",
   "id": "b5b8bd1e",
   "metadata": {},
   "source": [
    "Setando o vencedor dos jogos"
   ]
  },
  {
   "cell_type": "code",
   "execution_count": null,
   "id": "8bc433c0",
   "metadata": {},
   "outputs": [],
   "source": [
    "teamwinner = []\n",
    "for index, row in result_dataFrame.iterrows():\n",
    "    if int(row['visit_score']) > int(row['home_score']):\n",
    "        teamwinner.append(\"VISIT\")\n",
    "    elif int(row['visit_score']) < int(row['home_score']):\n",
    "        teamwinner.append(\"HOME\")\n",
    "    else:\n",
    "        teamwinner.append(\"NA\")\n",
    "result_dataFrame = result_dataFrame.assign(winner=teamwinner)"
   ]
  },
  {
   "cell_type": "code",
   "execution_count": null,
   "id": "8840d700",
   "metadata": {},
   "outputs": [],
   "source": [
    "valuescounted = result_dataFrame['winner'].value_counts()\n",
    "print('Percent home ' + str(100*(valuescounted['HOME']/(valuescounted['HOME']+valuescounted['VISIT']))))\n",
    "print('Percent visit ' + str(100*(valuescounted['VISIT']/(valuescounted['HOME']+valuescounted['VISIT']))))"
   ]
  },
  {
   "cell_type": "markdown",
   "id": "19a1c721",
   "metadata": {},
   "source": [
    "Totals e diferenças de pontos"
   ]
  },
  {
   "cell_type": "code",
   "execution_count": null,
   "id": "c836c56e",
   "metadata": {},
   "outputs": [],
   "source": [
    "totals = []\n",
    "pointsDiff = []\n",
    "for index, row in result_dataFrame.iterrows():\n",
    "    totals.append(int(row['visit_score']) + int(row['home_score']))\n",
    "    pointsDiff.append(abs(int(row['visit_score']) - int(row['home_score'])))\n",
    "    \n",
    "result_dataFrame = result_dataFrame.assign(total_points=totals)\n",
    "result_dataFrame = result_dataFrame.assign(diff_points=pointsDiff)"
   ]
  },
  {
   "cell_type": "code",
   "execution_count": null,
   "id": "3362f237",
   "metadata": {},
   "outputs": [],
   "source": [
    "print(\"Describe total de pontos \")\n",
    "result_dataFrame.query(\"visit_score != 0\")['total_points'].describe()"
   ]
  },
  {
   "cell_type": "code",
   "execution_count": null,
   "id": "30647997",
   "metadata": {},
   "outputs": [],
   "source": [
    "print(\"Describe da diferença de pontos da liga \")\n",
    "result_dataFrame.query(\"visit_score != 0\")['diff_points'].describe()"
   ]
  },
  {
   "cell_type": "markdown",
   "id": "346b2c41",
   "metadata": {},
   "source": [
    "Construindo matrix de jogos e diferença de Vitórias x Derrotas para calcular ranking."
   ]
  },
  {
   "cell_type": "code",
   "execution_count": null,
   "id": "ed73fde8",
   "metadata": {},
   "outputs": [],
   "source": [
    "from resources.nba_statistics import nbaStatistics\n",
    "\n",
    "Only_played_games = result_dataFrame.query(\"visit_score != 0\")\n",
    "\n",
    "d = {'name':['Boston Celtics', 'Brooklyn Nets', 'New York Knicks', 'Philadelphia 76ers', 'Toronto Raptors',\n",
    "                        'Chicago Bulls', 'Cleveland Cavaliers', 'Detroit Pistons', 'Indiana Pacers', 'Milwaukee Bucks',\n",
    "                        'Atlanta Hawks', 'Charlotte Hornets', 'Miami Heat', 'Orlando Magic', 'Washington Wizards',\n",
    "                        'Denver Nuggets', 'Minnesota Timberwolves', 'Oklahoma City Thunder', 'Portland Trail Blazers', 'Utah Jazz',\n",
    "                        'Golden State Warriors', 'Los Angeles Clippers', 'Los Angeles Lakers', 'Phoenix Suns', 'Sacramento Kings',\n",
    "                        'Dallas Mavericks', 'Houston Rockets', 'Memphis Grizzlies', 'New Orleans Pelicans', 'San Antonio Spurs'], \n",
    "            'record':[0,0,0,0,0,0,0,0,0,0,0,0,0,0,0,0,0,0,0,0,0,0,0,0,0,0,0,0,0,0],\n",
    "            'jogos':[0,0,0,0,0,0,0,0,0,0,0,0,0,0,0,0,0,0,0,0,0,0,0,0,0,0,0,0,0,0]}      \n",
    "\n",
    "df = pd.DataFrame(d)\n",
    "\n",
    "for index, row in Only_played_games.iterrows():\n",
    "    if row['winner'] == \"HOME\":\n",
    "        df.loc[df.name == row['visitor'], 'record'] = df.loc[df.name == row['visitor'], 'record'] - 1\n",
    "        df.loc[df.name == row['home'], 'record'] = df.loc[df.name == row['home'], 'record'] + 1\n",
    "    elif row['winner'] == \"VISIT\":\n",
    "        df.loc[df.name == row['home'], 'record'] = df.loc[df.name == row['home'], 'record'] - 1\n",
    "        df.loc[df.name == row['visitor'], 'record'] = df.loc[df.name == row['visitor'], 'record'] + 1\n",
    "    \n",
    "    df.loc[df.name == row['home'], 'jogos'] = df.loc[df.name == row['home'], 'jogos'] + 1\n",
    "    df.loc[df.name == row['visitor'], 'jogos'] = df.loc[df.name == row['visitor'], 'jogos'] + 1"
   ]
  },
  {
   "cell_type": "code",
   "execution_count": null,
   "id": "7a229b57",
   "metadata": {},
   "outputs": [],
   "source": [
    "\n",
    "from resources.nba_statistics import nbaStatistics\n",
    "from sympy import symbols, Eq, solve\n",
    "\n",
    "sol = nbaStatistics().nbaRank(df)\n",
    "sol.loc[sol.teamName == 'Boston Celtics', 'teamRank']\n",
    "\n",
    "homeRank = []\n",
    "visitorRank = []\n",
    "diffRank = []\n",
    "bestRankWins = []\n",
    "for index, row in Only_played_games.iterrows():\n",
    "    homeRanking = float(sol.loc[sol.teamName == row['home'], 'teamRank'])/1000\n",
    "    visitorRanking = float(sol.loc[sol.teamName == row['visitor'], 'teamRank'])/1000\n",
    "    homeRank.append(homeRanking)\n",
    "    visitorRank.append(visitorRanking)\n",
    "    diffRank.append(abs(homeRanking - visitorRanking))\n",
    "    \n",
    "    if row['winner'] == \"HOME\" and homeRanking > visitorRanking:\n",
    "        bestRankWins.append(\"SIM\")\n",
    "    elif row['winner'] == \"VISIT\" and homeRanking < visitorRanking:\n",
    "        bestRankWins.append(\"SIM\")\n",
    "    else:\n",
    "        bestRankWins.append(\"NAO\")\n",
    "    \n",
    "Only_played_games = Only_played_games.assign(home_rank = homeRank)\n",
    "Only_played_games = Only_played_games.assign(visitor_rank = visitorRank)\n",
    "Only_played_games = Only_played_games.assign(diff_rank = diffRank)\n",
    "Only_played_games = Only_played_games.assign(best_rank_wins = bestRankWins)"
   ]
  },
  {
   "attachments": {},
   "cell_type": "markdown",
   "id": "75f64e89",
   "metadata": {},
   "source": [
    "<h2 style=\"font-size:3rem;color:blue;\">Time Com melhor Ranking</h2>"
   ]
  },
  {
   "cell_type": "code",
   "execution_count": null,
   "id": "08ac02fc",
   "metadata": {},
   "outputs": [],
   "source": [
    "print(\"Describe melhor ranking ganha ? \")\n",
    "valuescountedbestrank = Only_played_games['best_rank_wins'].value_counts()\n",
    "print('Percent sim ' + str(100*(valuescountedbestrank['SIM']/(valuescountedbestrank['SIM']+valuescountedbestrank['NAO']))))\n",
    "print('Percent nao ' + str(100*(valuescountedbestrank['NAO']/(valuescountedbestrank['NAO']+valuescountedbestrank['SIM']))))"
   ]
  },
  {
   "cell_type": "code",
   "execution_count": null,
   "id": "d1cbfecb",
   "metadata": {},
   "outputs": [],
   "source": [
    "print(\"Describe melhor ranking ganha pela diferença de rank \")\n",
    "Only_played_games.query(\"best_rank_wins == 'SIM'\")['diff_rank'].describe()"
   ]
  },
  {
   "cell_type": "code",
   "execution_count": null,
   "id": "c064eea2",
   "metadata": {},
   "outputs": [],
   "source": [
    "print(\"Describe melhor ranking ganha pela diferença de rank maior que 1.0 \")\n",
    "Only_played_games.query(\"best_rank_wins == 'SIM'\").query(\"diff_rank <= 1.0\")['diff_rank'].describe()"
   ]
  },
  {
   "cell_type": "code",
   "execution_count": null,
   "id": "ca8a1d79",
   "metadata": {},
   "outputs": [],
   "source": [
    "print(\"Describe rank melhor ganhou e com diferença de rank maior que 1.0 \")\n",
    "#Only_played_games.query(\"best_rank_wins == 'SIM'\").query(\"diff_rank >= 1.0\")['diff_rank'].describe()\n",
    "valuescountedbestrank2 = Only_played_games.query(\"diff_rank >= 1.0\")['best_rank_wins'].value_counts()\n",
    "print(valuescountedbestrank2['SIM'])\n",
    "print(valuescountedbestrank2['NAO'])\n",
    "print('Percent sim com rank > 1 e ' + str(100*(valuescountedbestrank2['SIM']/(valuescountedbestrank2['SIM']+valuescountedbestrank2['NAO']))))\n",
    "print('Percent nao com rank > 1 e ' + str(100*(valuescountedbestrank2['NAO']/(valuescountedbestrank2['NAO']+valuescountedbestrank2['SIM']))))"
   ]
  },
  {
   "attachments": {},
   "cell_type": "markdown",
   "id": "c99ebeb0",
   "metadata": {},
   "source": [
    "<h2 style=\"font-size:3rem;color:blue;\">Back to back games logic</h2>"
   ]
  },
  {
   "cell_type": "code",
   "execution_count": null,
   "id": "5f48b51c",
   "metadata": {},
   "outputs": [],
   "source": [
    "import datetime as dt\n",
    "import numpy as np\n",
    "\n",
    "datas = {'name':['Boston Celtics', 'Brooklyn Nets', 'New York Knicks', 'Philadelphia 76ers', 'Toronto Raptors',\n",
    "                        'Chicago Bulls', 'Cleveland Cavaliers', 'Detroit Pistons', 'Indiana Pacers', 'Milwaukee Bucks',\n",
    "                        'Atlanta Hawks', 'Charlotte Hornets', 'Miami Heat', 'Orlando Magic', 'Washington Wizards',\n",
    "                        'Denver Nuggets', 'Minnesota Timberwolves', 'Oklahoma City Thunder', 'Portland Trail Blazers', 'Utah Jazz',\n",
    "                        'Golden State Warriors', 'Los Angeles Clippers', 'Los Angeles Lakers', 'Phoenix Suns', 'Sacramento Kings',\n",
    "                        'Dallas Mavericks', 'Houston Rockets', 'Memphis Grizzlies', 'New Orleans Pelicans', 'San Antonio Spurs'], \n",
    "            'ultimoJogo':[0,0,0,0,0,0,0,0,0,0,0,0,0,0,0,0,0,0,0,0,0,0,0,0,0,0,0,0,0,0]}      \n",
    "\n",
    "default_date = dt.datetime(2023, 6, 1, 0,0,0)\n",
    "datas_df = pd.DataFrame(datas)\n",
    "datas_df = datas_df.replace(0,default_date)\n",
    "\n",
    "daysLastGameVisit = []\n",
    "daysLastGameHome = []\n",
    "for index, row in Only_played_games.iterrows():\n",
    "    data_jogo = dt.datetime.strptime(str(row['date']),\"%Y-%m-%d %H:%M:%S\")\n",
    "    home_index = datas_df.loc[df.name == row['home'], 'ultimoJogo'].index[0]\n",
    "    data_home = dt.datetime.strptime(str(datas_df.iloc[home_index]['ultimoJogo']), \"%Y-%m-%d %H:%M:%S\")\n",
    "    visitor_index = datas_df.loc[df.name == row['visitor'], 'ultimoJogo'].index[0]\n",
    "    data_visitor = dt.datetime.strptime(str(datas_df.iloc[visitor_index]['ultimoJogo']), \"%Y-%m-%d %H:%M:%S\")\n",
    "    \n",
    "    delta = data_jogo - data_home\n",
    "    daysLastGameHome.append(delta.days)\n",
    "    datas_df.loc[datas_df.name == row['home'], 'ultimoJogo'] = data_jogo\n",
    "\n",
    "    delta = data_jogo - data_visitor\n",
    "    daysLastGameVisit.append(delta.days)\n",
    "    datas_df.loc[datas_df.name == row['visitor'], 'ultimoJogo'] = data_jogo\n",
    "    \n",
    "Only_played_games = Only_played_games.assign(days_last_game_visit = daysLastGameVisit)\n",
    "Only_played_games = Only_played_games.assign(days_last_game_home = daysLastGameHome)"
   ]
  },
  {
   "attachments": {},
   "cell_type": "markdown",
   "id": "20af7c28",
   "metadata": {},
   "source": [
    "Diferença de dias de descanso para o vencedor"
   ]
  },
  {
   "cell_type": "code",
   "execution_count": null,
   "id": "fab6abe3",
   "metadata": {},
   "outputs": [],
   "source": [
    "diffRestDaysToWinner = []\n",
    "for index, row in Only_played_games.iterrows():\n",
    "    if row['winner'] == \"HOME\":\n",
    "        diffRestDaysToWinner.append(abs(row['days_last_game_home'] - row['days_last_game_visit']))\n",
    "    else:\n",
    "        diffRestDaysToWinner.append(abs(row['days_last_game_visit'] - row['days_last_game_home']))\n",
    "\n",
    "Only_played_games = Only_played_games.assign(diff_days_rest_winner = diffRestDaysToWinner)"
   ]
  },
  {
   "cell_type": "code",
   "execution_count": null,
   "metadata": {},
   "outputs": [],
   "source": [
    "Only_played_games.query(\"diff_rank >= 1.0\").query(\"best_rank_wins == 'NAO'\")['diff_days_rest_winner'].describe()"
   ]
  },
  {
   "attachments": {},
   "cell_type": "markdown",
   "id": "8c8c07ca",
   "metadata": {},
   "source": [
    "Mesma conferencia e divisão"
   ]
  },
  {
   "cell_type": "code",
   "execution_count": null,
   "id": "e23852c6",
   "metadata": {},
   "outputs": [],
   "source": [
    "sameConference = []\n",
    "sameDivision = []\n",
    "for index, row in Only_played_games.iterrows():\n",
    "    if row['visitor_conference'] == row['home_conference']:\n",
    "        sameConference.append(\"SIM\")\n",
    "    else:\n",
    "        sameConference.append(\"NAO\")\n",
    "    \n",
    "    if row['visitor_division'] == row['home_division']:\n",
    "        sameDivision.append(\"SIM\")\n",
    "    else:\n",
    "        sameDivision.append(\"NAO\")\n",
    "\n",
    "Only_played_games = Only_played_games.assign(same_conference = sameConference)\n",
    "Only_played_games = Only_played_games.assign(same_division = sameDivision)"
   ]
  },
  {
   "cell_type": "code",
   "execution_count": null,
   "id": "bff234a2",
   "metadata": {},
   "outputs": [],
   "source": [
    "print(\"Rank >=1 com o favorito perdendo, levantamento de jogos mesma conferencia e divisao\")\n",
    "valuescounted = Only_played_games.query(\"diff_rank >= 1.0\").query(\"best_rank_wins == 'NAO'\")['same_division'].value_counts()\n",
    "print(valuescounted['SIM'])\n",
    "print(valuescounted['NAO'])\n",
    "print('Mesma Divisao ' + str(100*(valuescounted['SIM']/(valuescounted['SIM']+valuescounted['NAO']))))\n",
    "print('Diferente Divisao ' + str(100*(valuescounted['NAO']/(valuescounted['NAO']+valuescounted['SIM']))))"
   ]
  },
  {
   "cell_type": "code",
   "execution_count": null,
   "id": "6f13a5c7",
   "metadata": {},
   "outputs": [],
   "source": [
    "print(\"Na mesma divisao, levantamento de jogos mesma conferencia e divisao\")\n",
    "valuescounted = Only_played_games.query(\"same_division == 'SIM'\")['best_rank_wins'].value_counts()\n",
    "print(valuescounted['SIM'])\n",
    "print(valuescounted['NAO'])\n",
    "print('Mesma Divisao ' + str(100*(valuescounted['SIM']/(valuescounted['SIM']+valuescounted['NAO']))))\n",
    "print('Diferente Divisao ' + str(100*(valuescounted['NAO']/(valuescounted['NAO']+valuescounted['SIM']))))"
   ]
  }
 ],
 "metadata": {
  "kernelspec": {
   "display_name": "Python 3",
   "language": "python",
   "name": "python3"
  },
  "language_info": {
   "codemirror_mode": {
    "name": "ipython",
    "version": 3
   },
   "file_extension": ".py",
   "mimetype": "text/x-python",
   "name": "python",
   "nbconvert_exporter": "python",
   "pygments_lexer": "ipython3",
   "version": "-1.-1.-1"
  },
  "vscode": {
   "interpreter": {
    "hash": "52634da84371cba311ea128a5ea7cdc41ff074b781779e754b270ff9f8153cee"
   }
  }
 },
 "nbformat": 4,
 "nbformat_minor": 5
}
