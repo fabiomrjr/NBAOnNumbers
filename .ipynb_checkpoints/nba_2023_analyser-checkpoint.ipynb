{
 "cells": [
  {
   "cell_type": "markdown",
   "id": "bb25ecac",
   "metadata": {},
   "source": [
    "<h1 style=\"font-size:3rem;color:blue;\">Analisando Jogos NBA 2023</h1>"
   ]
  },
  {
   "cell_type": "markdown",
   "id": "c45513a9",
   "metadata": {},
   "source": [
    "Coletando dados do banco de dados."
   ]
  },
  {
   "cell_type": "code",
   "execution_count": 1,
   "id": "67bd5682",
   "metadata": {},
   "outputs": [
    {
     "name": "stderr",
     "output_type": "stream",
     "text": [
      "C:\\Users\\fabio\\AppData\\Local\\Temp\\ipykernel_17016\\906594433.py:8: UserWarning: pandas only supports SQLAlchemy connectable (engine/connection) or database string URI or sqlite3 DBAPI2 connection. Other DBAPI2 objects are not tested. Please consider using SQLAlchemy.\n",
      "  result_dataFrame = pd.read_sql(query, mydb)\n"
     ]
    }
   ],
   "source": [
    "import mysql.connector as connection\n",
    "import pandas as pd\n",
    "import math\n",
    "\n",
    "try:\n",
    "    mydb = connection.connect(host=\"localhost\", database = 'nbaonnumbers',user=\"sa\", passwd=\"RomuloJalim70\",use_pure=True)\n",
    "    query = \"select id_game as 'id', date, visitor.full_name as 'visitor', home.full_name as 'home', visit_score, home_score, visitor.division as 'visitor_division', home.division as 'home_division', visitor.conference as 'visitor_conference', home.conference as 'home_conference' from game inner join team visitor on visitor.id_team = game.id_visit_team inner join team home on home.id_team = game.id_home_team;\"\n",
    "    result_dataFrame = pd.read_sql(query, mydb)\n",
    "    mydb.close()\n",
    "except Exception as e:\n",
    "    mydb.close()\n",
    "    print(str(e))"
   ]
  },
  {
   "cell_type": "markdown",
   "id": "b3f54b63",
   "metadata": {},
   "source": [
    "Revendo dados de uma linha da tabela"
   ]
  },
  {
   "cell_type": "code",
   "execution_count": 2,
   "id": "4133c4df",
   "metadata": {},
   "outputs": [
    {
     "name": "stdout",
     "output_type": "stream",
     "text": [
      "id                                      1\n",
      "date                  2022-10-18 19:30:00\n",
      "visitor                Philadelphia 76ers\n",
      "home                       Boston Celtics\n",
      "visit_score                           117\n",
      "home_score                            126\n",
      "visitor_division                 Atlantic\n",
      "home_division                    Atlantic\n",
      "visitor_conference     Eastern Conference\n",
      "home_conference        Eastern Conference\n",
      "Name: 0, dtype: object\n"
     ]
    }
   ],
   "source": [
    "print(result_dataFrame.iloc[0])"
   ]
  },
  {
   "cell_type": "markdown",
   "id": "b5b8bd1e",
   "metadata": {},
   "source": [
    "Setando o vencedor dos jogos"
   ]
  },
  {
   "cell_type": "code",
   "execution_count": 3,
   "id": "8bc433c0",
   "metadata": {},
   "outputs": [],
   "source": [
    "teamwinner = []\n",
    "for index, row in result_dataFrame.iterrows():\n",
    "    if int(row['visit_score']) > int(row['home_score']):\n",
    "        teamwinner.append(\"VISIT\")\n",
    "    elif int(row['visit_score']) < int(row['home_score']):\n",
    "        teamwinner.append(\"HOME\")\n",
    "    else:\n",
    "        teamwinner.append(\"NA\")\n",
    "result_dataFrame = result_dataFrame.assign(winner=teamwinner)"
   ]
  },
  {
   "cell_type": "code",
   "execution_count": 4,
   "id": "8840d700",
   "metadata": {},
   "outputs": [
    {
     "name": "stdout",
     "output_type": "stream",
     "text": [
      "Percent home 58.44402277039848\n",
      "Percent visit 41.555977229601524\n"
     ]
    }
   ],
   "source": [
    "valuescounted = result_dataFrame['winner'].value_counts()\n",
    "print('Percent home ' + str(100*(valuescounted['HOME']/(valuescounted['HOME']+valuescounted['VISIT']))))\n",
    "print('Percent visit ' + str(100*(valuescounted['VISIT']/(valuescounted['HOME']+valuescounted['VISIT']))))"
   ]
  },
  {
   "cell_type": "markdown",
   "id": "19a1c721",
   "metadata": {},
   "source": [
    "Totals e diferenças de pontos"
   ]
  },
  {
   "cell_type": "code",
   "execution_count": 5,
   "id": "c836c56e",
   "metadata": {},
   "outputs": [],
   "source": [
    "totals = []\n",
    "pointsDiff = []\n",
    "for index, row in result_dataFrame.iterrows():\n",
    "    totals.append(int(row['visit_score']) + int(row['home_score']))\n",
    "    pointsDiff.append(abs(int(row['visit_score']) - int(row['home_score'])))\n",
    "    \n",
    "result_dataFrame = result_dataFrame.assign(total_points=totals)\n",
    "result_dataFrame = result_dataFrame.assign(diff_points=pointsDiff)"
   ]
  },
  {
   "cell_type": "code",
   "execution_count": 6,
   "id": "3362f237",
   "metadata": {},
   "outputs": [
    {
     "name": "stdout",
     "output_type": "stream",
     "text": [
      "Describe total de pontos \n"
     ]
    },
    {
     "data": {
      "text/plain": [
       "count    1054.000000\n",
       "mean      229.009488\n",
       "std        19.353705\n",
       "min       169.000000\n",
       "25%       216.000000\n",
       "50%       229.000000\n",
       "75%       241.000000\n",
       "max       351.000000\n",
       "Name: total_points, dtype: float64"
      ]
     },
     "execution_count": 6,
     "metadata": {},
     "output_type": "execute_result"
    }
   ],
   "source": [
    "print(\"Describe total de pontos \")\n",
    "result_dataFrame.query(\"visit_score != 0\")['total_points'].describe()"
   ]
  },
  {
   "cell_type": "code",
   "execution_count": 7,
   "id": "30647997",
   "metadata": {},
   "outputs": [
    {
     "name": "stdout",
     "output_type": "stream",
     "text": [
      "Describe da diferença de pontos \n"
     ]
    },
    {
     "data": {
      "text/plain": [
       "count    1054.000000\n",
       "mean       10.908918\n",
       "std         7.992236\n",
       "min         1.000000\n",
       "25%         5.000000\n",
       "50%         9.000000\n",
       "75%        15.000000\n",
       "max        45.000000\n",
       "Name: diff_points, dtype: float64"
      ]
     },
     "execution_count": 7,
     "metadata": {},
     "output_type": "execute_result"
    }
   ],
   "source": [
    "print(\"Describe da diferença de pontos \")\n",
    "result_dataFrame.query(\"visit_score != 0\")['diff_points'].describe()"
   ]
  },
  {
   "cell_type": "markdown",
   "id": "346b2c41",
   "metadata": {},
   "source": [
    "Construindo matrix de jogos e diferença de Vitórias x Derrotas para calcular ranking."
   ]
  },
  {
   "cell_type": "code",
   "execution_count": 8,
   "id": "f998b4fe",
   "metadata": {},
   "outputs": [],
   "source": [
    "Only_played_games = result_dataFrame.query(\"visit_score != 0\")\n"
   ]
  },
  {
   "cell_type": "code",
   "execution_count": 9,
   "id": "ed73fde8",
   "metadata": {},
   "outputs": [],
   "source": [
    "from resources.nba_statistics import nbaStatistics\n",
    "\n",
    "Only_played_games = result_dataFrame.query(\"visit_score != 0\")\n",
    "d = {'name':['Boston Celtics', 'Brooklyn Nets', 'New York Knicks', 'Philadelphia 76ers', 'Toronto Raptors',\n",
    "                        'Chicago Bulls', 'Cleveland Cavaliers', 'Detroit Pistons', 'Indiana Pacers', 'Milwaukee Bucks',\n",
    "                        'Atlanta Hawks', 'Charlotte Hornets', 'Miami Heat', 'Orlando Magic', 'Washington Wizards',\n",
    "                        'Denver Nuggets', 'Minnesota Timberwolves', 'Oklahoma City Thunder', 'Portland Trail Blazers', 'Utah Jazz',\n",
    "                        'Golden State Warriors', 'LA Clippers', 'Los Angeles Lakers', 'Phoenix Suns', 'Sacramento Kings',\n",
    "                        'Dallas Mavericks', 'Houston Rockets', 'Memphis Grizzlies', 'New Orleans Pelicans', 'San Antonio Spurs'], \n",
    "            'record':[0,0,0,0,0,0,0,0,0,0,0,0,0,0,0,0,0,0,0,0,0,0,0,0,0,0,0,0,0,0],\n",
    "            'jogos':[0,0,0,0,0,0,0,0,0,0,0,0,0,0,0,0,0,0,0,0,0,0,0,0,0,0,0,0,0,0]}      \n",
    "\n",
    "df = pd.DataFrame(d)\n",
    "\n",
    "for index, row in Only_played_games.iterrows():\n",
    "    if row['winner'] == \"HOME\":\n",
    "        df.loc[df.name == row['visitor'], 'record'] = df.loc[df.name == row['visitor'], 'record'] - 1\n",
    "        df.loc[df.name == row['home'], 'record'] = df.loc[df.name == row['home'], 'record'] + 1\n",
    "    elif row['winner'] == \"VISIT\":\n",
    "        df.loc[df.name == row['home'], 'record'] = df.loc[df.name == row['home'], 'record'] - 1\n",
    "        df.loc[df.name == row['visitor'], 'record'] = df.loc[df.name == row['visitor'], 'record'] + 1\n",
    "    \n",
    "    df.loc[df.name == row['home'], 'jogos'] = df.loc[df.name == row['home'], 'jogos'] + 1\n",
    "    df.loc[df.name == row['visitor'], 'jogos'] = df.loc[df.name == row['visitor'], 'jogos'] + 1"
   ]
  },
  {
   "cell_type": "code",
   "execution_count": 10,
   "id": "7a229b57",
   "metadata": {},
   "outputs": [
    {
     "name": "stderr",
     "output_type": "stream",
     "text": [
      "C:\\Users\\fabio\\Documents\\Projetos\\NBAOnNumbers\\resources\\nba_statistics.py:48: SymPyDeprecationWarning: \n",
      "\n",
      "Eq(expr) with a single argument with the right-hand side\n",
      "defaulting to 0 is deprecated. Use Eq(expr, 0) instead.\n",
      "\n",
      "See https://docs.sympy.org/latest/explanation/active-deprecations.html#deprecated-eq-expr\n",
      "for details.\n",
      "\n",
      "This has been deprecated since SymPy version 1.5. It\n",
      "will be removed in a future version of SymPy.\n",
      "\n",
      "  eq1 = Eq(float(df.loc[df.name == 'Boston Celtics', 'record']) + float((1/df.loc[df.name == 'Boston Celtics', 'jogos'])) *\n"
     ]
    },
    {
     "name": "stdout",
     "output_type": "stream",
     "text": [
      "{Boston_Celtics: 1928.37931034483, Brooklyn_Nets: 571.379310344828, New_York_Knicks: 792.379310344828, Philadelphia_76ers: 1736.37931034483, Toronto_Raptors: -128.620689655172, Chicago_Bulls: -333.620689655172, Cleveland_Cavaliers: 1252.37931034483, Detroit_Pistons: -2757.62068965517, Indiana_Pacers: -408.620689655172, Milwaukee_Bucks: 2111.37931034483, Atlanta_Hawks: 11.3793103448276, Charlotte_Hornets: -2004.62068965517, Miami_Heat: 366.379310344828, Orlando_Magic: -968.620689655172, Washington_Wizards: -408.620689655172, Denver_Nuggets: 1691.37931034483, Minnesota_Timberwolves: -59.6206896551724, Oklahoma_City_Thunder: -128.620689655172, Portland_Trail_Blazers: -548.620689655172, Utah_Jazz: -195.620689655172, Golden_State_Warriors: 82.3793103448276, LA_Clippers: 11.3793103448276, Los_Angeles_Lakers: -201.620689655172, Phoenix_Suns: 431.379310344828, Sacramento_Kings: 1046.37931034483, Dallas_Mavericks: 82.3793103448276, Houston_Rockets: -2368.62068965517, Memphis_Grizzlies: 1046.37931034483, New_Orleans_Pelicans: -268.620689655172, San_Antonio_Spurs: -2368.62068965517}\n"
     ]
    }
   ],
   "source": [
    "\n",
    "from resources.nba_statistics import nbaStatistics\n",
    "from sympy import symbols, Eq, solve\n",
    "\n",
    "sol = nbaStatistics().nbaRank(df)\n",
    "#print(df.loc[df.name == 'Atlanta Hawks', 'jogos'])\n",
    "\n",
    "print(sol)\n"
   ]
  },
  {
   "cell_type": "code",
   "execution_count": 18,
   "id": "90003945",
   "metadata": {},
   "outputs": [
    {
     "ename": "NameError",
     "evalue": "name 'Boston_Celtics' is not defined",
     "output_type": "error",
     "traceback": [
      "\u001b[1;31m---------------------------------------------------------------------------\u001b[0m",
      "\u001b[1;31mNameError\u001b[0m                                 Traceback (most recent call last)",
      "Cell \u001b[1;32mIn[18], line 1\u001b[0m\n\u001b[1;32m----> 1\u001b[0m \u001b[38;5;28mprint\u001b[39m(sol[\u001b[43mBoston_Celtics\u001b[49m])\n\u001b[0;32m      2\u001b[0m \u001b[38;5;66;03m#print(sol[Milwaukee_Bucks])\u001b[39;00m\n\u001b[0;32m      3\u001b[0m \u001b[38;5;66;03m#rankingsdf = pd.DataFrame(sol)\u001b[39;00m\n",
      "\u001b[1;31mNameError\u001b[0m: name 'Boston_Celtics' is not defined"
     ]
    }
   ],
   "source": [
    "print(sol[Brooklyn_Nets])\n",
    "#print(sol[Milwaukee_Bucks])\n",
    "#rankingsdf = pd.DataFrame(sol)"
   ]
  },
  {
   "cell_type": "code",
   "execution_count": null,
   "id": "84e39756",
   "metadata": {},
   "outputs": [],
   "source": []
  }
 ],
 "metadata": {
  "kernelspec": {
   "display_name": "Python 3 (ipykernel)",
   "language": "python",
   "name": "python3"
  },
  "language_info": {
   "codemirror_mode": {
    "name": "ipython",
    "version": 3
   },
   "file_extension": ".py",
   "mimetype": "text/x-python",
   "name": "python",
   "nbconvert_exporter": "python",
   "pygments_lexer": "ipython3",
   "version": "3.11.2"
  }
 },
 "nbformat": 4,
 "nbformat_minor": 5
}
